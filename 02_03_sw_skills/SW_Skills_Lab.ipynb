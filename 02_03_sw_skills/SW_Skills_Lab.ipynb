{
 "cells": [
  {
   "cell_type": "markdown",
   "id": "f33551b4",
   "metadata": {},
   "source": [
    "# Software Skills lab: \n",
    "## In this lab you will create reusable functions in a library to be shared via github and using python's pip\n",
    "### The goals of this lab are\n",
    "* To reduce cut and paste, and duplicated effort by sharing a library of common functions\n",
    "* Use asserts and some of the best practices presented in class to create a readable and mantainable library\n",
    "\n",
    "### For this lab you'll be provided\n",
    "* A skeletal github repo to use as a template (the point of the exercies is not how to use github, but we'll be relying on a couple of its features)\n",
    "* Steps for setting up a tagged release in github which will allow you to pip install by version\n",
    "* Instructions for testing the pip install\n",
    "\n",
    "### The core of the lab will be to set up a set of functions that can then be installed via `pip install -r requirements.txt`\n",
    "* You'll be given a description of functions to write in the shared package\n",
    "* The end goal is for your package to install and pass a set of tests that will run against your functions\n",
    "* Practice the techniques described in class \n"
   ]
  },
  {
   "cell_type": "markdown",
   "id": "3fc463d4-34a6-46da-898b-63d8637c33b1",
   "metadata": {},
   "source": [
    "# Sample repo\n",
    "* [link to sample repo](https://github.com/Niarfe/uvainstallablepackage)\n",
    "\n",
    "## Setup github side\n",
    "* Open or use your existing github account to fork the repo into your own account\n",
    "* Now that it is in your account, you'll need to create a `release` which will in turn create a tag.\n",
    "* From the main page of your forked repo, you'll see a `tag` link, just to the right of the `[main]` button and the `branch` link, click it.\n",
    "* In the next window, you should see a button with `[Releases | Tags]`.  We could use either, but I'd recommend using a `Release` which will give you some more features for documenting your package.  Click `Release`\n",
    "* In the new window, click `[Draft a new Release]` button.\n",
    "* Now, use the `[Choose a tag]` pull down to create a git tag.  Since this is a test release, use v0.0.0.  We'll follow `semantic versioning` for this lab.  Look at [Wikipedia Software Versioning:semantic versioning](https://en.wikipedia.org/wiki/Software_versioning#Semantic_versioning)\n",
    "\n",
    "\n",
    "## Setup a test directory\n",
    "For this next section, you can use python3 with pip, or create a virtual environment from which to use pip to insure you don't add anything to the system libraries.  The steps here include setting up a quick environment.\n",
    "* At the command line, create a folder and `cd` into it\n",
    "* Make sure you're using python version 3, and then `python -m venv env` which will create a directory `env` with your virtual environment\n",
    "* Activate the virtual environment with `source env/bin/activate`\n",
    "* Create a file named `requirements.txt` and put the following line into it\n",
    "```git+ssh://git@github.com/<github-name>/uvainstallablepackage.git@v0.0.0```\n",
    "* Now install the package with `pip install -r requirements.txt`\n",
    "* Execute `pip list` and you should now see something like this\n",
    "\n",
    "```\n",
    "Package    Version\n",
    "---------- -------\n",
    "pip        19.2.3\n",
    "setuptools 41.2.0\n",
    "shared     0.0.1\n",
    "```\n",
    "\n",
    "\n",
    "## Testing the pip install\n",
    "* Create a test file, `test_shared.py` for example and put the following code in it\n",
    "\n",
    "```python\n",
    "import shared as sh\n",
    "sh.afunction()\n",
    "```\n",
    "* Now execute it with `python test_shared.py` if all went well, you should see `This is the installed function` print to the command line\n",
    "\n",
    "Now you're done with the setup and in the next step we can add some functionality, increment the version and update our package.\n"
   ]
  },
  {
   "cell_type": "markdown",
   "id": "a774b559-2552-441a-a564-6892a646fe59",
   "metadata": {
    "tags": []
   },
   "source": [
    "# Inspecting the main content of the library\n",
    "```python\n",
    "def afunction():\n",
    "    print(\"This is the installed function\")\n",
    "```\n",
    "\n",
    "This is the function that was run when you used the test file in the preceding section.\n",
    "\n",
    "What we want to do next is a function that would be useful to share amongst a team (or just yourself if you want to reuse the same functions over different projects)\n",
    "\n",
    "We'll use a simple space compressor function as an example.  You'll have to use exact name as given so it matches the tests that will be run against it.  The tests will try a couple of simple cases, but most importantly it will also check the behaviour provided by adding an `assert` to check for the type.  \n",
    "\n",
    "\n",
    "## Function `space_compress` \n",
    "* Should take a string and return a string with any multiple whitespace chars compressed to a single.\n",
    "* If it is passed a `word     word   word` it should return `word word word`\n",
    "* If it is passed a multiline string it should return only one line\n",
    "* If it is passed an int \"Expected string but got {}\" where the {} inserts the type as seen of the variable that was passed.\n",
    "* The last test will repeated with a bool\n",
    "\n",
    "## How the lab will be graded.  \n",
    "When complete, provide the name of your repo fork and a version number to use.\n",
    "* A python environment using python3.7+ will be used.\n",
    "* A `requirements.txt` will be set up with the name of the repo and version so it will load\n",
    "* A test script will then import the package and run the three simple tests, which should all pass\n"
   ]
  },
  {
   "cell_type": "markdown",
   "id": "0c89ff8e-1bd3-47bc-8e6f-b299238e6048",
   "metadata": {},
   "source": [
    "# Notes\n",
    "\n",
    "## Updating github to add a new version\n",
    "* Update the functions in your library\n",
    "* Make sure you increment the `setup.py` version number\n",
    "* Create a new release and use the same version number when you create the tag\n",
    "\n",
    "## Updating the python environment using your package\n",
    "* From the directory where you have installed the package run `pip uninstall shared`, and answer `y` to remove\n",
    "* Edit the `requirements.txt` file and update the tag at the end of the github url\n",
    "* Re execute `pip install -r requirements.txt`\n",
    "* Run pip list, and now you should see the new tag show up as the version"
   ]
  }
 ],
 "metadata": {
  "kernelspec": {
   "display_name": "Python 3 (ipykernel)",
   "language": "python",
   "name": "python3"
  },
  "language_info": {
   "codemirror_mode": {
    "name": "ipython",
    "version": 3
   },
   "file_extension": ".py",
   "mimetype": "text/x-python",
   "name": "python",
   "nbconvert_exporter": "python",
   "pygments_lexer": "ipython3",
   "version": "3.7.7"
  }
 },
 "nbformat": 4,
 "nbformat_minor": 5
}
