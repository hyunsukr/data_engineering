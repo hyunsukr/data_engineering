{
 "cells": [
  {
   "cell_type": "markdown",
   "id": "f33551b4",
   "metadata": {},
   "source": [
    "# Software Skills lab 2: "
   ]
  },
  {
   "cell_type": "markdown",
   "id": "3fc463d4-34a6-46da-898b-63d8637c33b1",
   "metadata": {},
   "source": [
    "# Exploring the Singleton Pattern\n",
    "## Affirm we're getting the same object\n",
    "For this lab, we're going to explore the code for the Singleton pattern.  After exploring it we are going to extend\n",
    "\n",
    "* Assure yourself that the pattern is doing as expected.  Copy the code in the next cell, 'Singleton Code'\n",
    "```\n",
    "  2 class Singleton:\n",
    "  3     def __new__(cls):\n",
    "  4         if not hasattr(cls, 'instance'):\n",
    "  5             cls.instance = super(Singleton, cls).__new__(cls)\n",
    "  6         return cls.instance\n",
    "```  \n",
    "* Make two calls to `Singleton()` stored in variables `a` and `b`.  Note the`assert` using python's `id` function.  When you run it, why does the assert not throw an error?  (1 pt)\n",
    "\n",
    "## Init behavior\n",
    "* Look at the `print(\"INIT\")` statement in the `__init__` function in the Singleton class.\n",
    "* When you run the script, notice you see two `INIT` messages, why?  (1 pt)\n",
    "\n",
    "## Custom initializer\n",
    "* Now focus on thefunction called `init_once` and it's print statement.\n",
    "* It's called in the `__new__` function with  `cls.instance.initialize_once()`\n",
    "* Only one print statement from this function shows up when you run the script.  Why not 2? (1 pt)\n",
    "\n",
    "## Counting references to the singleton\n",
    "* Note the `count = 0` just below the class declaration\n",
    "* The `__init__` function increments the count every time it is called.\n",
    "* Why is the printout of this variable 1, then 2, and not 1, 1 instead?  (1 pt)"
   ]
  },
  {
   "cell_type": "markdown",
   "id": "a774b559-2552-441a-a564-6892a646fe59",
   "metadata": {
    "tags": []
   },
   "source": [
    "# Singleton Code\n",
    "```python\n",
    "class Singleton:\n",
    "    count = 0\n",
    "    def __new__(cls):\n",
    "        if not hasattr(cls, 'instance'):\n",
    "            cls.instance = super(Singleton, cls).__new__(cls)\n",
    "            cls.instance.initialize_once()\n",
    "        return cls.instance\n",
    "\n",
    "    def __init__(self):\n",
    "        self.count += 1\n",
    "        print(self.count)\n",
    "        print(\"INIT\")\n",
    "\n",
    "\n",
    "    def initialize_once(self):\n",
    "        print(\"initialize once\")\n",
    "\n",
    "    def do_something(self):\n",
    "        print(\"do something\")\n",
    "\n",
    "a = Singleton()\n",
    "b = Singleton()\n",
    "\n",
    "assert id(a) == id(b)\n",
    "print(id(a))\n",
    "print(id(b))\n",
    "\n",
    "\n",
    "a.do_something()\n",
    "b.do_something()\n",
    "```\n",
    "## Should print\n",
    "```\n",
    "initialize once\n",
    "1\n",
    "INIT\n",
    "2\n",
    "INIT\n",
    "4470710128\n",
    "4470710128\n",
    "do something\n",
    "do something\n",
    "```"
   ]
  },
  {
   "cell_type": "markdown",
   "id": "5624a751",
   "metadata": {},
   "source": [
    "# Test LAB installable package part II - Using a decorator in pytest\n",
    "In this lab, you'll extend the package you created with a test suite using pytest.  We will cover pytest in the next lecture, but with a brief introduction I wanted to show you some uses of decorators and pytest is a perfect application for that.\n",
    "\n",
    "#### The following applies to the repo you cloned for the previous lab, uvainstallablepackage."
   ]
  },
  {
   "cell_type": "markdown",
   "id": "7263ea36-e75c-4a2e-a8c0-94b96d56c399",
   "metadata": {},
   "source": [
    "## Inspecting the requirements.txt\n",
    "* You should have one entry, `pytest`\n",
    "* Once in the virtual environment, run `pip install -r requirements.txt` to install pytest\n",
    "* There already is a `tests` directory with a single file, `test_shared.py`\n",
    "* It should have one function defined, aside from the imports. `test_shared_string()`\n",
    "* If properly installed, you should be able to run either `pytests -v tests` at the command line, or alternatively `make test`.\n",
    "* You should see console output indicating one test was run, and that it passed."
   ]
  },
  {
   "cell_type": "markdown",
   "id": "66b17d04-3d96-4b76-ad51-1d1aae89128d",
   "metadata": {},
   "source": [
    "## Pytest looks for files with `test_` as the beggining of the name\n",
    "### You can run pytest directly on a file with `pytest <filename>`, any function starting with `test_` will be run.  In a recursive way, if you pass a directory name, any files that start with `test_` will be run.\n",
    "* So what is happening here is we are running the pytest application with `-v` for verbose, and it then looks for all the files in the directory we spefied, `tests`.  Once inside the files it picks up ONLY functions that start with `test_`.  It will ignore any other functions.\n",
    "\n",
    "## Now that we have pytest running we can look at a couple of it's decorators.\n",
    "\n",
    "### Write another passing function\n",
    "* just to get used to it, write another test.  Make sure the function starts with `test_` and write any code that uses an assert.  Make sure the assert results in a `True` statement so it \"passes\". I.e.  `assert 1 == 1`.    (0.5 pt, although you'll get 1pt if the function runs your space compressor from the last function!)\n",
    "\n",
    "### Introducing pytest decorators.\n",
    "* To get set up, you'll notice you will need to add `import pytest` to your `test_shared.py` file.\n",
    "* This is the reference documentation for pytest decorators https://docs.pytest.org/en/7.1.x/how-to/skipping.html\n",
    "\n",
    "### Adding a Failing test\n",
    "* Now add a new test, but this time, write code that makes an assert fail.  I.e. `assert False`.\n",
    "* When you run `pytest -v tests` you should now see one failure called out.\n",
    "* Now look at the refence linked above, and decorate your failing test so we know we expect it to fail. \n",
    "* Now when we execute our tests, you should see a YELLOW, not RED for the test, indicating it was expected.  (0.5 pt, but 1 pt if you create a failing test for your space compressor)\n",
    "\n",
    "### Adding a skipped test\n",
    "* Add a new test, make it fail\n",
    "* Use the `skip` decorator so the test run `pytest -v tests` doesn't show red but shows it was skpped intentionally (0.5 pt)\n",
    "\n",
    "#### Adding a skip on condition test\n",
    "* Now we're going to write a test that will run conditionally.\n",
    "* Similar to the `skip` except `skipif` takes parameters. A condition, followed by a message.\n",
    "* The `sys` package has a variable set to the OS you're running on, `sys.platform`.  Let's use that as a condition.  Write a decorator that runs only on `sys.platform == '<your platform>'` and write an appropriate message.\n",
    "* You an check your platform by just using a `print(sys.platform)`\n",
    "* Now write a FAILING test, just like before, (there's a reason for it just ahead)\n",
    "* Get this test to skip only on your platform (0.5 pt)\n",
    "* Set the wrong platform and watch the test execute, it should of course fail (0.5 pt)\n",
    "* Now add a `print(\"My platform is\", sys.platform)` to the top of the test, before the assert.\n",
    "* What happens when set up the conditions so the test runs and fails?  Do you see the printout?  (0.5 pt)  \n",
    "\n",
    "\n",
    "\n",
    "The tests set up in"
   ]
  }
 ],
 "metadata": {
  "kernelspec": {
   "display_name": "Python 3 (ipykernel)",
   "language": "python",
   "name": "python3"
  },
  "language_info": {
   "codemirror_mode": {
    "name": "ipython",
    "version": 3
   },
   "file_extension": ".py",
   "mimetype": "text/x-python",
   "name": "python",
   "nbconvert_exporter": "python",
   "pygments_lexer": "ipython3",
   "version": "3.9.6"
  }
 },
 "nbformat": 4,
 "nbformat_minor": 5
}
