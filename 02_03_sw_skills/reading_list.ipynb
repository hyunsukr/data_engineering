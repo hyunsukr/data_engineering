{
 "cells": [
  {
   "cell_type": "markdown",
   "id": "3d63b265",
   "metadata": {},
   "source": [
    "# Reading list for Software Skills Parts 1 & 2\n",
    "\n",
    "# Part 1\n",
    "## [Effective Python](https://learning.oreilly.com/library/view/effective-python-90/9780134854717/)\n",
    "* [Write Helper functions](https://learning.oreilly.com/library/view/effective-python-90/9780134854717/ch01.xhtml#item5)\n",
    "* [Use Function Decorators](https://learning.oreilly.com/library/view/effective-python-90/9780134854717/ch03.xhtml#item26)\n",
    "* [Use Packages to Organize](https://learning.oreilly.com/library/view/effective-python-90/9780134854717/ch10.xhtml#item85)\n",
    "\n",
    "## Modern Python Library\n",
    "* Chapter 3 [Logging to file](https://learning.oreilly.com/library/view/modern-python-standard/9781788830829/cf238f15-dcc2-48ed-ac1d-81c36fe9e2c3.xhtml)\n",
    "* Chapter 6 [Reading and Writing CSV](https://learning.oreilly.com/library/view/modern-python-standard/9781788830829/6130d44c-01f9-4088-b5a5-ce4bd9ad609c.xhtml)\n",
    "* Chapter 6 [Reading configuration files](https://learning.oreilly.com/library/view/modern-python-standard/9781788830829/e64b128a-3da1-4137-adc1-e78ec808ffe4.xhtml)\n",
    "* Chapter 7 [Memoizing](https://learning.oreilly.com/library/view/modern-python-standard/9781788830829/695d4eaf-1b6c-4462-8101-f86fe69567fe.xhtml)\n",
    "* Chapter 7 [Proper Decoration](https://learning.oreilly.com/library/view/modern-python-standard/9781788830829/fcf2ded8-77a1-403b-a9ec-8305f65b0c5b.xhtml)\n",
    "* Chapter 14 [Tracing Code](https://learning.oreilly.com/library/view/modern-python-standard/9781788830829/4ed5edf1-a011-45fa-8346-4e8d5e577430.xhtml)\n",
    "\n",
    "---  \n",
    "\n",
    "# Part 2\n",
    "## Head First Design patterns\n",
    "* Chapter 1: [Welcome to Design Patterns](https://learning.oreilly.com/library/view/head-first-design/9781492077992/ch01.html)\n",
    "* Chapter 4:  [Factory](https://learning.oreilly.com/library/view/head-first-design/9781492077992/ch04.html)\n",
    "* Chapter 5:  [Singleton](https://learning.oreilly.com/library/view/head-first-design/9781492077992/ch05.html)\n",
    "* Chapter 6:  [Command](https://learning.oreilly.com/library/view/head-first-design/9781492077992/ch06.html)\n",
    "* Chapter 8:  [Template method](https://learning.oreilly.com/library/view/head-first-design/9781492077992/ch08.html)\n",
    "* Chapter 11: [Proxy](https://learning.oreilly.com/library/view/head-first-design/9781492077992/ch11.html)\n",
    "\n",
    "\n",
    "## Learning Python Design Patterns\n",
    "\n",
    "# Additional Sources\n",
    "* [Clean Code](https://www.amazon.com/Clean-Code-Handbook-Software-Craftsmanship/dp/0132350882/ref=asc_df_0132350882/?tag=hyprod-20&linkCode=df0&hvadid=266005469508&hvpos=&hvnetw=g&hvrand=8773292058464517720&hvpone=&hvptwo=&hvqmt=&hvdev=c&hvdvcmdl=&hvlocint=&hvlocphy=9033511&hvtargid=pla-435472505264&psc=1)\n",
    "* [Agile Software Development](https://www.amazon.com/Software-Development-Principles-Patterns-Practices/dp/0135974445/ref=sr_1_3?crid=2MC2KQJFRJBMA&keywords=agile+software+development&qid=1645596582&s=books&sprefix=agile+software+development%2Cstripbooks%2C148&sr=1-3)\n",
    "* [Code That Fits In Your Head](https://www.amazon.com/Code-That-Fits-Your-Head-ebook/dp/B09D2X43VX/ref=sr_1_1?crid=1MRCIVHOSZLES&keywords=code+that+fits+in+your+head&qid=1645596648&s=books&sprefix=code+that+fits+in+your+head%2Cstripbooks%2C146&sr=1-1)\n",
    "* [Head First Design Patterns](https://www.amazon.com/Head-First-Design-Patterns-Object-Oriented-ebook-dp-B08P3X99QP/dp/B08P3X99QP/ref=mt_other?_encoding=UTF8&me=&qid=)\n",
    "\n",
    "---  \n",
    "\n",
    "# For those that want to go further\n",
    "* [Original Design Patterns from GOF](https://www.amazon.com/Design-Patterns-Elements-Reusable-Object-Oriented/dp/0201633612/ref=sr_1_4?crid=TLWCK8SWXGDY&keywords=design+patterns+gang+of+four&qid=1645596689&s=books&sprefix=Design+patterns+%2Cstripbooks%2C135&sr=1-4)\n",
    "* [Effective Python](https://www.amazon.com/Effective-Python-Specific-Software-Development-ebook/dp/B07ZG18BH3/ref=sr_1_1?crid=1LC1IIE5FW5LV&keywords=Effective+Python&qid=1645596845&s=digital-text&sprefix=effective+python%2Cdigital-text%2C148&sr=1-1)\n",
    "* [Modern Python Standard Library](https://www.amazon.com/Modern-Python-Standard-Library-Cookbook-ebook/dp/B07C5Q59ZZ/ref=sr_1_2?crid=3NMLE5PO11Z91&keywords=modern+python+standard+library&qid=1645596812&s=digital-text&sprefix=modern+python+standard+library%2Cdigital-text%2C138&sr=1-2)"
   ]
  },
  {
   "cell_type": "code",
   "execution_count": null,
   "id": "3a978432",
   "metadata": {},
   "outputs": [],
   "source": []
  }
 ],
 "metadata": {
  "kernelspec": {
   "display_name": "Python 3 (ipykernel)",
   "language": "python",
   "name": "python3"
  },
  "language_info": {
   "codemirror_mode": {
    "name": "ipython",
    "version": 3
   },
   "file_extension": ".py",
   "mimetype": "text/x-python",
   "name": "python",
   "nbconvert_exporter": "python",
   "pygments_lexer": "ipython3",
   "version": "3.7.7"
  }
 },
 "nbformat": 4,
 "nbformat_minor": 5
}
