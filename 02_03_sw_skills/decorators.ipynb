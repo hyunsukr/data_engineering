{
 "cells": [
  {
   "cell_type": "markdown",
   "metadata": {},
   "source": [
    "### The Decorator Pattern\n",
    "### University of Virginia\n",
    "### Data Engineering\n",
    "### Last Updated: February 24, 2022\n",
    "---  \n",
    "\n",
    "### PREREQUISITES\n",
    "- data types\n",
    "- variables\n",
    "- functions\n",
    "\n",
    "### SOURCES \n",
    "- **Python Cookbook, Beazley & Jones**\n",
    "- https://pythonbasics.org/decorators/\n",
    "- https://www.geeksforgeeks.org/args-kwargs-python/ for details on `*args` and `*kwargs` \n",
    "\n",
    "\n",
    "### OBJECTIVES\n",
    "- Introduce the *decorator* pattern and provide examples\n",
    "\n",
    "### CONCEPTS\n",
    "\n",
    "- Decorators wrap additional functionality around a function\n",
    "\n",
    "\n",
    "---\n",
    "\n",
    "### Decorators\n",
    "\n",
    "In this lesson we will illustrate what a decorator can do for your functions.  \n",
    "They solve for the problem where you would like to include additional functionality with your functions.  \n",
    "If you find that you are adding repetitive code to several functions, they likely will benefit from a decorator.  \n",
    "\n",
    "Common use cases:  \n",
    "\n",
    "- measuring runtime of functions\n",
    "- adding logging to functions\n",
    "\n",
    "\n",
    "**Decorator definition**: A decorator is a function that takes a function as an input and returns a new function as an output."
   ]
  },
  {
   "cell_type": "markdown",
   "metadata": {},
   "source": [
    "### Example - measuring function runtime\n",
    "\n",
    "We will wrap a function with a decorator to compute and print the runtime of a function.  "
   ]
  },
  {
   "cell_type": "code",
   "execution_count": 1,
   "metadata": {},
   "outputs": [],
   "source": [
    "import time\n",
    "from functools import wraps\n",
    "\n",
    "def timethis(func):\n",
    "    @wraps(func)\n",
    "    def wrapper(*args, **kwargs):\n",
    "        start = time.time()\n",
    "        result = func(*args, **kwargs)\n",
    "        end = time.time()\n",
    "        print(func.__name__, 'runtime:', end-start)\n",
    "        return result\n",
    "    return wrapper"
   ]
  },
  {
   "cell_type": "markdown",
   "metadata": {},
   "source": [
    "Let's unpack `timethis` : \n",
    "\n",
    "`timethis` is the decorator. It will wrap a function called `func` (it provides additional functionality)\n",
    "\n",
    "`@wraps` is a decorator from the functools library which insures the wrapped function retains metadata.   \n",
    "If `@wraps` is not included, attributes such as documentation (`__doc__`) and annotations (`__annotations__`) will get dropped.\n",
    "\n",
    "`wrapper` does two things: runs the function `func`, and adds the timing functionality. It prints the runtime and returns the \n",
    "          function result.\n",
    "\n",
    "`timethis` will return the wrapper function\n",
    "\n",
    "`*args` allows the function to accept any number of (non-keyworded) inputs\n",
    "\n",
    "`**kwargs` allows the function to accept a keyworded, variable-length argument list (think dictionary).\n",
    "\n",
    "See [here](https://www.geeksforgeeks.org/args-kwargs-python/) for details on `*args` and `*kwargs`\n",
    "\n",
    "---"
   ]
  },
  {
   "cell_type": "markdown",
   "metadata": {},
   "source": [
    "Now we define the function to be wrapped: `countdown`. It accepts an integer and decrements the value in a loop, down to zero.  \n",
    "First, we define the function as usual, without a decorator, call it, and print the result."
   ]
  },
  {
   "cell_type": "code",
   "execution_count": 2,
   "metadata": {},
   "outputs": [
    {
     "name": "stdout",
     "output_type": "stream",
     "text": [
      "0\n"
     ]
    }
   ],
   "source": [
    "def countdown(n):\n",
    "    '''\n",
    "    accept positive integer n and increment down to zero \n",
    "    '''\n",
    "    while n > 0:\n",
    "        n -= 1\n",
    "    print(n)\n",
    "\n",
    "# function call          \n",
    "countdown(100000)"
   ]
  },
  {
   "cell_type": "markdown",
   "metadata": {},
   "source": [
    "This function is relatively simple, and it says nothing about runtime.  \n",
    "Next, we add the wrapper, so that we can measure runtime.\n",
    "\n",
    "Decorators are included on the line above the function definition, prepending an `@` symbol."
   ]
  },
  {
   "cell_type": "code",
   "execution_count": 3,
   "metadata": {},
   "outputs": [
    {
     "name": "stdout",
     "output_type": "stream",
     "text": [
      "0\n",
      "countdown runtime: 0.0052411556243896484\n"
     ]
    }
   ],
   "source": [
    "# function to be wrapped: countdown\n",
    "# here we apply the decorator to the function\n",
    "\n",
    "@timethis\n",
    "def countdown(n):\n",
    "    while n > 0:\n",
    "        n -= 1\n",
    "    print(n)\n",
    "\n",
    "# function call          \n",
    "countdown(100000)"
   ]
  },
  {
   "cell_type": "markdown",
   "metadata": {},
   "source": [
    "Notice the wrapped function does two things: it prints the runtime, and returns the function result.  \n",
    "This is exactly the desired behavior.\n",
    "\n",
    "The very exciting part is the `timethis` decorator can be used to wrap any function."
   ]
  },
  {
   "cell_type": "markdown",
   "metadata": {},
   "source": [
    "---\n",
    "\n"
   ]
  },
  {
   "cell_type": "markdown",
   "metadata": {},
   "source": [
    "Reuse `timethis` on a function that computes the product of two numbers."
   ]
  },
  {
   "cell_type": "code",
   "execution_count": 4,
   "metadata": {},
   "outputs": [
    {
     "name": "stdout",
     "output_type": "stream",
     "text": [
      "compute_product runtime: 1.1920928955078125e-06\n"
     ]
    },
    {
     "data": {
      "text/plain": [
       "8.5094"
      ]
     },
     "execution_count": 4,
     "metadata": {},
     "output_type": "execute_result"
    }
   ],
   "source": [
    "@timethis\n",
    "def compute_product(x, y):\n",
    "    return x * y\n",
    "\n",
    "compute_product(3.14, 2.71)"
   ]
  },
  {
   "cell_type": "markdown",
   "metadata": {},
   "source": [
    "Next, reuse it on a function that computes the sum of a variable amount of numbers."
   ]
  },
  {
   "cell_type": "code",
   "execution_count": 5,
   "metadata": {},
   "outputs": [
    {
     "name": "stdout",
     "output_type": "stream",
     "text": [
      "compute_sum runtime: 9.5367431640625e-07\n"
     ]
    },
    {
     "data": {
      "text/plain": [
       "80"
      ]
     },
     "execution_count": 5,
     "metadata": {},
     "output_type": "execute_result"
    }
   ],
   "source": [
    "@timethis\n",
    "def compute_sum(*vals):\n",
    "    tot = 0\n",
    "    for val in vals:\n",
    "        tot += val      \n",
    "    return tot\n",
    "\n",
    "compute_sum(10,20,50)"
   ]
  },
  {
   "cell_type": "markdown",
   "metadata": {},
   "source": [
    "---"
   ]
  },
  {
   "cell_type": "markdown",
   "metadata": {},
   "source": [
    "###  Accessing the original function\n",
    "\n",
    "You can access the original function like this:"
   ]
  },
  {
   "cell_type": "code",
   "execution_count": 6,
   "metadata": {},
   "outputs": [
    {
     "data": {
      "text/plain": [
       "80"
      ]
     },
     "execution_count": 6,
     "metadata": {},
     "output_type": "execute_result"
    }
   ],
   "source": [
    "sum_unwrapped = compute_sum.__wrapped__\n",
    "sum_unwrapped(10,20,50)"
   ]
  },
  {
   "cell_type": "markdown",
   "metadata": {},
   "source": [
    "Notice this no longer prints the runtime, as the wrapper is not applied."
   ]
  },
  {
   "cell_type": "markdown",
   "metadata": {},
   "source": [
    "#### TRY FOR YOURSELF\n",
    "Define your own decorator, and apply it on two different functions.  \n",
    "Demonstrate that it works properly."
   ]
  }
 ],
 "metadata": {
  "anaconda-cloud": {},
  "kernelspec": {
   "display_name": "Python 3 (ipykernel)",
   "language": "python",
   "name": "python3"
  },
  "language_info": {
   "codemirror_mode": {
    "name": "ipython",
    "version": 3
   },
   "file_extension": ".py",
   "mimetype": "text/x-python",
   "name": "python",
   "nbconvert_exporter": "python",
   "pygments_lexer": "ipython3",
   "version": "3.7.7"
  }
 },
 "nbformat": 4,
 "nbformat_minor": 4
}
