{
 "cells": [
  {
   "cell_type": "markdown",
   "id": "67697a9b",
   "metadata": {},
   "source": [
    "# Reading list for Software Testing\n",
    "\n",
    "## Required\n",
    "\n",
    "## [Python Testing with Pytest](https://learning.oreilly.com/library/view/python-testing-with/9781680509427/cover.xhtml)\n",
    "|Chap | Description                                   |\n",
    "|--:  |:--------------------------------------------- |\n",
    "| 1   | Getting Started with Python                   |\n",
    "| 2   | Writing Test Functions                        |\n",
    "| 3   | Pytest Fixtures                               |\n",
    "\n",
    "\n",
    "## [Test-Driven Machine Learning](https://learning.oreilly.com/library/view/test-driven-machine-learning/9781784399085/ch01.html)\n",
    "\n",
    "|Chap| Description                                   |\n",
    "|--: |:----------------------------------------------|\n",
    "| 1  | Introducing Test-Driven Machine Learning      |\n",
    "| 2  | Testing a Perceptron                          |\n",
    "\n",
    "\n",
    "\n",
    "## Suggested\n",
    "\n",
    "\n",
    "## [Python Testing with Pytest](https://learning.oreilly.com/library/view/python-testing-with/9781680509427/cover.xhtml)\n",
    "|Chap | Description                                   |\n",
    "|--:  |:--------------------------------------------- |\n",
    "| 1   | Getting Started with Python                   |\n",
    "| 2   | Writing Test Functions                        |\n",
    "| 3   | Pytest Fixtures                               |\n",
    "\n",
    "\n",
    "\n",
    "## [Test-Driven Machine Learning](https://learning.oreilly.com/library/view/test-driven-machine-learning/9781784399085/ch01.html)\n",
    "\n",
    "|Chap| Description                                   |\n",
    "|--: |:----------------------------------------------|\n",
    "| 5  | Making Black/White Deiciions with Regression  |\n",
    "| 6  | Naive Bayes                                   |       \n",
    "| 8  | Explore scikit-learn Test First               |\n",
    "\n",
    "\n",
    "## Additional Sources\n",
    "* [The Cucumber For Java Book](https://learning.oreilly.com/library/view/the-cucumber-for/9781680500677/)\n",
    "    - Chapters 1,2,3 make a good overview of why, and how of Gherkin\n",
    "    - Worth perusing to tie in with the lecture, although it's for Java, the same conceps apply\n",
    "* [Test Driven Development](https://learning.oreilly.com/library/view/test-driven-development/0321146530/)\n",
    "    - This book is a milestone by Kent Beck, worth perusing for the ideas although there are by now probably more python focused books. \n",
    "* [Why programs Fail](https://learning.oreilly.com/library/view/why-programs-fail/9780123745156/)\n",
    "    - Introduction and Foreword\n",
    "    - peruse first paragraph of each chapter and look around\n",
    "    - This book is the extreme case where\n",
    "         debugging, and bug hunting become an engineering practice\n",
    "         onto itself."
   ]
  }
 ],
 "metadata": {
  "kernelspec": {
   "display_name": "Python 3 (ipykernel)",
   "language": "python",
   "name": "python3"
  },
  "language_info": {
   "codemirror_mode": {
    "name": "ipython",
    "version": 3
   },
   "file_extension": ".py",
   "mimetype": "text/x-python",
   "name": "python",
   "nbconvert_exporter": "python",
   "pygments_lexer": "ipython3",
   "version": "3.7.7"
  }
 },
 "nbformat": 4,
 "nbformat_minor": 5
}
