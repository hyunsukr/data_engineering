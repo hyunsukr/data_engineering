{
 "cells": [
  {
   "cell_type": "markdown",
   "id": "8177fc52",
   "metadata": {},
   "source": [
    "# Testing Lab\n",
    "\n",
    "## In this Lab you will be providede a module that has 3 layers, combining 3 different behaviours into one file.\n",
    "\n",
    "### The purpose of the lab is to explore a 3 layer script (module/tests/execute), by:\n",
    "* using the module as an import to execute a function\n",
    "* execute the script directly as an executable to view a tiny sqlite3 database\n",
    "* write proper documentation for the tests\n",
    "* refactor the tests to use a pytest fixture\n",
    "* set up a makefile to create short cuts for all three uses of the file\n",
    "* there are sereval possiblities for extra credit for a little extra challenge\n",
    "\n",
    "### Overall the main point is to make sure\n",
    "1. The file will work as a module that can be imported into a project\n",
    "2. The file will have tests that only activate when run with pytest and verify the code in the file\n",
    "3. The file will run when called directly\n",
    "4. Along the way, we'll also get a simple intro and use to makefiles.\n"
   ]
  },
  {
   "cell_type": "markdown",
   "id": "9e2c59a3",
   "metadata": {},
   "source": [
    "## Setup for this assignment\n",
    " \n",
    "* **1 pt**: Create a new github public repo (you'll send in the link) and call it '3-layer-single-script'\n",
    "* Clone the repo to your local machine\n",
    "* **1 pt**: Create a requirements.txt file with 'pytest' in it\n",
    "* Copy the file provided [HERE](https://github.com/UVADS/data_engineering/blob/main/04_sw_testing/db_viewer.py) \"db_viewer.py\" into the repo (so at this point, there should be only two files, except maybe a readme if you added one)\n",
    "* **1 pt**: Create a `.gitignore` file in your repo and add `env` in the file (this will keep our environment from getting checked into github.\n",
    "* After the setup above, you should run `python3 -m venv env` to create the virtual environment, activate it and then run `pip install -r requiremts.txt` to install pytest.\n",
    "\n",
    "### Checkpoint:\n",
    "* You should be able to run `python db_viewer.py` and see `DB NOT found!  run intialize_datase first`, this is normal.  Just type `quit` and you should be back to the command line.\n",
    "* **1 pt** At this point you should also be able to run `pytest -vvx db_viewer.py` and see green come through the console for the passing tests.\n",
    "* If the last two steps worked, then youre ready for hte next steps\n",
    "\n",
    "**NB:** If you ran the steps backwards, that is to say, ran the tests first before executing the script you'll notice the database message above doesn't show up.  That is because the tests create the database, this is actually a bug we'd like to fix, but that is later in this lab.  At this point, do an `ls` and if you see `aquarium.db` go ahead and delete/remove it before going onto the next step.\n"
   ]
  },
  {
   "cell_type": "markdown",
   "id": "2d8937f1",
   "metadata": {},
   "source": [
    "## Using the script as a module\n",
    "We just saw that the script acts as a test module since we can run pytest with it and run the tests.  The message you got earlier, about the database not existing is because we have not created one.  Let's create another script that uses our main script as a module to initiaze the database.\n",
    "* **1 pt** - Create a small script `initialize_database.py`, and it should literally contain 2 lines\n",
    "    - The first line should import the file db_viewer\n",
    "    - the second line should call the modules `initialize_database` function, and that should do it.\n",
    "* **1 pt** - Verify that `python initialize_database.py` generates the `aquarium.py` file mentioned before.  If it does, now try running the main script `python db_viewer.py` and you should see a new message, `DB found, getting cursor`.  If you now type `select * from fish;` at the cursor and enter, you should see two lines show up with names and two types of fish.\n",
    "\n",
    "## If this section worked, good, you've setup the script as a module and we're ready for a quick tangent on makefiles"
   ]
  },
  {
   "cell_type": "markdown",
   "id": "a1117687",
   "metadata": {},
   "source": [
    "## Side trip to makefiles\n",
    "Makefiles are some of the original automation provided by linux.  It was intended for assisting in compiling tedouls multi file interactions for large programs written in c and c++.  It is a bit archaic and can have some loopy syntax.  However, if you keep things simple this functionality can serve as a shortcut and as documentation to how to use your script.\n",
    "\n",
    "## Setting up the Makefile\n",
    "* **1 pt:** Add a file named `makefile` to your project.\n",
    "* I'll give you the contents here and your task for this section will be to verify these work.  These will be run when we test your repo contents in the end.\n",
    "\n",
    "```bash\n",
    "default:\n",
    "    @cat makefile\n",
    "    \n",
    "view:\n",
    "    python db_viewer.py\n",
    "    \n",
    "init:\n",
    "    python initialize_database.py\n",
    "\n",
    "test:\n",
    "    pytest -vvx db_viewer.py\n",
    "    \n",
    "clean:\n",
    "    rm aquarium.py\n",
    "```\n",
    "\n",
    "### Now let's test it out\n",
    "* type `make` and you should see the contents of the file on the console.  The command make executes a section of the makefile, which by default it will be the first instruction.  I got into the habit of always addint the `default:` at the top so I would not accientaly trigger anything, and this way it just shows me the contents and thus the commands available.  By the way, ...\n",
    "    - **IMPORTANT** words starting on the left with the `:` are the commands.  No spaces on the left of those words like `default`, `view`, `init`, and `clean`.  **AND** DOUBLY important, the space in the executing lines, that first space are before `@cat makefile` for example HAS TO BE A TAB character.  Those are some idiosicrasies of the the makefile.\n",
    "    - The `@` symbol in `@cat makefile` means execute `cat makefile` but do not echo the command to the console, otherwise you'd see `cat makefile` every time you execute.  Just keeps things neater on the command output.\n",
    "* Now let's try `make view`, `make init`, `make test`, and `make clean`.  You can probably tell from the simple commands what they do.\n",
    "\n",
    "### Why of makefiles\n",
    "* You now have shortcuts to your most common commands you'll be using\n",
    "* Another dev/Data-Scientist now using your repo has a view of how to use it, in real life there may be all sorts of flags `-x.... -file ....` etc, so you may even have a few ways of running it.  In this way the file serves as documentation.\n",
    "\n",
    "### Also\n",
    "* `clean` is very typical as you can use it \"reset\" to some initial conditions etc\n",
    "* `test` is very common in makefiles\n",
    "* You can 'chain' the commands.  If you wanted to load the database fresh every time you may do something like this\n",
    "\n",
    "```bash\n",
    "clean_view: clean init view\n",
    "```\n",
    "\n",
    "* **1 pt** And that's it, a `make clean_view` should run the `clean`, `init` and then `view` for you.\n",
    "\n"
   ]
  },
  {
   "cell_type": "markdown",
   "id": "5014f800",
   "metadata": {},
   "source": [
    "## Using a pytest fixture\n",
    "* **2 pt** Use a pytest fixture to provide the data used to create the test database (The `CREATE TABLE... INSERT INTO... INSERT INTO...` lines)\n",
    "\n",
    "\n",
    "### At this point we've got 10 pts for the lab possible.  And if everything works good, we'll be running the make file commands, and looking at the Given/When/Then, plus the implementation of a fixture.  The rest of this lab is for extra credit, or to possibly cover any points missed above."
   ]
  },
  {
   "cell_type": "markdown",
   "id": "33e4e79a",
   "metadata": {},
   "source": [
    "### Going further\n",
    "* **1 pt**  Set up your makefile so the tests always run when you use `make view`\n",
    "* **2 pt**  use a pytest decorator so only one tests for the db runs, say you consider this a smoke test.  What you're simulating here is running all the fast, or most important tests quickly.  Add a makefile entry so we can run `make test_smoke` and `make test`.  `test_smoke` should run a subset only.\n",
    "* **3 pt**  As mentioned earlier, there is a bug here.  If we run the tests, they leave the test intantiation of `aquarium.db` behind.  Fix the bug and make sure all your tests still pass.\n",
    "* **3 pt**  Modify the script so you pass it the name of a pre-existing database, while keeping all the tests running with our test database `aquarium.db`.  After all the utlity of the file is looking at any sqlite3 db, not just that one.\n",
    "* **4 pt**  Modify the file further and "
   ]
  },
  {
   "cell_type": "markdown",
   "id": "7536f0ed",
   "metadata": {},
   "source": [
    "### Part 3 Adding an `if __name__==\"__main__\":` section to script\n",
    "This will allow for both using the script standalone to inspect a sqlite database, but also can be used to explore or do some exploratory testing."
   ]
  }
 ],
 "metadata": {
  "kernelspec": {
   "display_name": "Python 3 (ipykernel)",
   "language": "python",
   "name": "python3"
  },
  "language_info": {
   "codemirror_mode": {
    "name": "ipython",
    "version": 3
   },
   "file_extension": ".py",
   "mimetype": "text/x-python",
   "name": "python",
   "nbconvert_exporter": "python",
   "pygments_lexer": "ipython3",
   "version": "3.7.7"
  }
 },
 "nbformat": 4,
 "nbformat_minor": 5
}
